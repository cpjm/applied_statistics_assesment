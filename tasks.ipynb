{
 "cells": [
  {
   "cell_type": "markdown",
   "metadata": {},
   "source": [
    "# tasks.ipynb\n",
    "# Ciaran Moran\n",
    "# Student ID: G00426050\n",
    "# Email: G00426050@atu.ie\n",
    "\n",
    "This notebook is for Python tasks (1-4) for the ATU course *Applied Statistics*."
   ]
  }
 ],
 "metadata": {
  "language_info": {
   "name": "python"
  }
 },
 "nbformat": 4,
 "nbformat_minor": 2
}
