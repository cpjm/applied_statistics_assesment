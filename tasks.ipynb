{
 "cells": [
  {
   "cell_type": "markdown",
   "metadata": {},
   "source": [
    "# tasks.ipynb\n",
    "# Ciaran Moran\n",
    "# Student ID: G00426050\n",
    "# Email: G00426050@atu.ie\n",
    "\n",
    "This notebook is for Python tasks (1-4) for the ATU course *Applied Statistics*."
   ]
  },
  {
   "cell_type": "markdown",
   "metadata": {},
   "source": [
    "# Task 1: Permutations and Combinations\n",
    "## Lady Tasting Tea\n",
    "### Based on code from\n",
    "###  - Ian McLoughlin (Ian.McLoughlin@atu.ie)  \n",
    "###  - Github: https://github.com/ianmcloughlin/2425_applied_statistics"
   ]
  },
  {
   "cell_type": "code",
   "execution_count": 1,
   "metadata": {},
   "outputs": [],
   "source": [
    "# Mathematical functions from the standard library.\n",
    "# https://docs.python.org/3/library/math.html\n",
    "import math\n",
    "\n",
    "# Permutations and combinations.\n",
    "# https://docs.python.org/3/library/itertools.html\n",
    "import itertools\n",
    "\n",
    "# Random selections.\n",
    "# https://docs.python.org/3/library/random.html\n",
    "import random\n",
    "\n",
    "# Numerical structures and operations.\n",
    "# https://numpy.org/doc/stable/reference/index.html#reference\n",
    "import numpy as np\n",
    "\n",
    "# Plotting.\n",
    "# https://matplotlib.org/stable/contents.html\n",
    "import matplotlib.pyplot as plt\n",
    "\n",
    "# Normality\n",
    "# https://docs.scipy.org/doc/scipy/reference/generated/scipy.stats.shapiro.html\n",
    "import scipy.stats as stats\n",
    "\n",
    "# To plot the histogram\n",
    "#  https://matplotlib.org/3.5.3/api/_as_gen/matplotlib.pyplot.html#module-matplotlib.pyplot\n",
    "import matplotlib.pyplot as plt"
   ]
  },
  {
   "cell_type": "markdown",
   "metadata": {},
   "source": [
    "## The Design of Experiments"
   ]
  },
  {
   "cell_type": "markdown",
   "metadata": {},
   "source": [
    "> <img src=\"https://upload.wikimedia.org/wikipedia/commons/a/aa/Youngronaldfisher2.JPG\" alt=\"Alt text\" style=\"height:300px;float:right;\">\n",
    "> A lady declares that by tasting a cup of tea made with milk she can discriminate whether the milk or the tea infusion was first added to the cup. We will consider the problem of designing an experiment by means of which this assertion can be tested. For this purpose let us first lay down a simple form of experiment with a view to studying its limitations and its characteristics, both those which appear to be essential to the experimental method, when well developed, and those which are not essential but auxiliary.<br><br>\n",
    "> Our experiment consists in mixing eight cups of tea, four in one way and four in the other, and presenting them to the subject for judgment in a random order. The subject has been told in advance of what the test will consist, namely that she will be asked to taste eight cups, that these shall be four of each kind, and that they shall be presented to her in a random order, that is in an order not determined arbitrarily by human choice, but by the actual manipulation of the physical apparatus used in games of chance cards, dice, roulettes, etc., or, more expeditiously, from a published collection of random sampling numbers purporting to give the actual results of such manipulation. Her task is to divide the 8 cups into two sets of 4, agreeing, if possible, with the treatments received.<br><br>\n",
    "> <i>The Design of Experiments By Ronald A. Fisher</i>"
   ]
  },
  {
   "cell_type": "markdown",
   "metadata": {},
   "source": [
    "## Permutations and Combinations\n",
    "\n",
    "### Permutations\n",
    "\n",
    "A permutation is an ordering of its elements.\n",
    "\n",
    "The set `{a, b, c}` has the permutations `abc`, `acb`, `bac`, `bca`, `cab`, and `cba`.\n",
    "\n",
    "\n",
    "### Combinations\n",
    "\n",
    "A combination is a selection of `k` elements from a set of size `n`.\n",
    "\n",
    "In combinations, order does not matter and the same element cannot be selected twice.\n",
    "\n",
    "The combinations of size 2 from the set `{a, b, c}` are `{a, b}`, `{a, c}`, and `{b, c}`."
   ]
  },
  {
   "cell_type": "markdown",
   "metadata": {},
   "source": [
    "## Cups of Tea"
   ]
  },
  {
   "cell_type": "code",
   "execution_count": 2,
   "metadata": {},
   "outputs": [],
   "source": [
    "# Number of cups of tea in total.\n",
    "no_cups = 12\n",
    "\n",
    "# Number of cups of tea with milk in first.\n",
    "no_cups_milk_first = 6\n",
    "\n",
    "# Number of cups of tea with tea in first.\n",
    "no_cups_tea_first = 6"
   ]
  },
  {
   "cell_type": "markdown",
   "metadata": {},
   "source": [
    "## math.comb(n, k)\n",
    "\n",
    "https://docs.python.org/3/library/math.html#math.comb\n",
    "\n",
    "Calculate the number of ways to choose **k** elements from a set of **n** elements where the order of the chosen elements does not matter and no element is selected more than once.\n"
   ]
  },
  {
   "cell_type": "code",
   "execution_count": null,
   "metadata": {},
   "outputs": [],
   "source": [
    "# Number of ways of selecting six cups from twelve.\n",
    "ways = math.comb(no_cups, no_cups_milk_first)\n",
    "\n",
    "# Show.\n",
    "ways"
   ]
  },
  {
   "cell_type": "markdown",
   "metadata": {},
   "source": [
    "Label the twelve cups of tea `1`, `2`, `3`, `4`, `5`, `6`, `7`, `8`, `9`, `10`, `11` and `12`.\n",
    "\n",
    "We select six cups to have milk in first.\n",
    "\n",
    "For example, we might select `2`, `4`, `5`, '6', '7' and `8`.\n",
    "\n",
    "Visualize having six placeholders where we place six of the cup labels.\n",
    "\n",
    "How many ways are there to select six cups from twelve?\n",
    "\n",
    "Cups: `1 2 3 4 5 6 7 8 9 10 11 12`\n",
    "\n",
    "Placeholders: `_ _ _ _ _ _`\n",
    "\n"
   ]
  },
  {
   "cell_type": "code",
   "execution_count": null,
   "metadata": {},
   "outputs": [],
   "source": [
    "# Total number of ways of selecting six cups from twelve, keeping them in order.\n",
    "ways_ordered = 12 * 11 * 10 * 9 * 8 * 7\n",
    "\n",
    "# Show.\n",
    "ways_ordered"
   ]
  },
  {
   "cell_type": "markdown",
   "metadata": {},
   "source": [
    "Note we don't care about order: if cups `2`, `4`, `5`, `6`, `7`,and `8` are selected in order it is the same result as if `2`, `8`, `4`, `5`, `6` and `7` were selected, or any other permutation.\n",
    "\n",
    "`2 3 4 8 6 5`\n",
    "\n",
    "`8 6 4 5 3 2`\n",
    "\n",
    "`_ _ _ _ _ _`"
   ]
  },
  {
   "cell_type": "code",
   "execution_count": null,
   "metadata": {},
   "outputs": [],
   "source": [
    "# No of ways of shuffling six cups.\n",
    "no_shuffles = 6 * 5 * 4 * 3 * 2 * 1\n",
    "\n",
    "# Show.\n",
    "no_shuffles"
   ]
  },
  {
   "cell_type": "code",
   "execution_count": null,
   "metadata": {},
   "outputs": [],
   "source": [
    "# No of combinations.\n",
    "no_combs = ways_ordered // no_shuffles\n",
    "\n",
    "# Show.\n",
    "no_combs"
   ]
  },
  {
   "cell_type": "markdown",
   "metadata": {},
   "source": [
    "## Formula\n",
    "\n",
    "In mathematics, the `math.comb()` function is called the *choose* function.\n",
    "\n",
    "It is written and calculated as\n",
    "\n",
    "$\\binom{n}{k} = \\frac{n!}{k!(n-k)!}$.\n"
   ]
  },
  {
   "cell_type": "code",
   "execution_count": 7,
   "metadata": {},
   "outputs": [],
   "source": [
    "# Number of cups of tea in total.\n",
    "n = 12"
   ]
  },
  {
   "cell_type": "code",
   "execution_count": 8,
   "metadata": {},
   "outputs": [],
   "source": [
    "# Number of cups of tea with milk in first.\n",
    "k = 6"
   ]
  },
  {
   "cell_type": "markdown",
   "metadata": {},
   "source": [
    "## math.factorial\n",
    "\n",
    "https://docs.python.org/3.12/library/math.html#math.factorial\n",
    "\n",
    "Mathematically denoted as `n!`.\n",
    "\n",
    "Multiply all positive integers from `n` down to 1.\n",
    "\n",
    "\n",
    "`n! = n x (n - 1) x (n - 2) x ... x 1`\n",
    "\n",
    "e.g. `5! = 5 x 4 x 3 x 2 x 1 = 120`"
   ]
  },
  {
   "cell_type": "code",
   "execution_count": null,
   "metadata": {},
   "outputs": [],
   "source": [
    "# Twelve factorial.\n",
    "math.factorial(n)"
   ]
  },
  {
   "cell_type": "code",
   "execution_count": null,
   "metadata": {},
   "outputs": [],
   "source": [
    "# Six factorial.\n",
    "math.factorial(k)"
   ]
  },
  {
   "cell_type": "code",
   "execution_count": null,
   "metadata": {},
   "outputs": [],
   "source": [
    "# Six factorial.\n",
    "math.factorial(n - k)"
   ]
  },
  {
   "cell_type": "code",
   "execution_count": null,
   "metadata": {},
   "outputs": [],
   "source": [
    "# No of ways of selecting k objects from n without replacement and without order.\n",
    "math.factorial(n) // (math.factorial(k) * math.factorial(n - k))"
   ]
  },
  {
   "cell_type": "markdown",
   "metadata": {},
   "source": [
    "```\n",
    "n! = 12 x 11 x 10 x 9 x 8 x 7 x 6 x 5 x 4 x 3 x 2 x 1\n",
    "k! = 6 x 5 x 4 x 3 x 2 x 1\n",
    "(n - k)! = 6 x 5 x 4 x 3 x 2 x 1\n",
    "n!/(n - k)! = (12 x 11 x 10 x 9 x 8 x 7 x 6 x 5 x 4 x 3 x 2 x 1) / (6 x 5 x 4 x 3 x 2 x 1) = 12 x 11 x 10 x 9 x 8 x 7\n",
    "```"
   ]
  },
  {
   "cell_type": "markdown",
   "metadata": {},
   "source": [
    "#### Aside"
   ]
  },
  {
   "cell_type": "code",
   "execution_count": null,
   "metadata": {},
   "outputs": [],
   "source": [
    "# How many ways are there to shuffle a deck of 52 cards?\n",
    "math.factorial(52)"
   ]
  },
  {
   "cell_type": "markdown",
   "metadata": {},
   "source": [
    "## Ordering of Results\n",
    "\n",
    "https://docs.python.org/3/library/itertools.html#itertools.combinations"
   ]
  },
  {
   "cell_type": "code",
   "execution_count": null,
   "metadata": {},
   "outputs": [],
   "source": [
    "# The cup labels.\n",
    "labels = list(range(no_cups))\n",
    "\n",
    "# Show.\n",
    "labels"
   ]
  },
  {
   "cell_type": "code",
   "execution_count": null,
   "metadata": {},
   "outputs": [],
   "source": [
    "# Show the different ways of selecting no_cups_milk_first out of no_cups cups of tea.\n",
    "combs = list(itertools.combinations(labels, no_cups_milk_first))\n",
    "\n",
    "# Show.\n",
    "combs"
   ]
  },
  {
   "cell_type": "code",
   "execution_count": null,
   "metadata": {},
   "outputs": [],
   "source": [
    "# Number of combinations.\n",
    "len(combs)"
   ]
  },
  {
   "cell_type": "code",
   "execution_count": null,
   "metadata": {},
   "outputs": [],
   "source": [
    "# Select six cups at random to put milk in first.\n",
    "# https://docs.python.org/3/library/random.html#random.sample\n",
    "labels_milk = random.sample(labels, 6)\n",
    "\n",
    "# Sort, inplace.\n",
    "labels_milk.sort()\n",
    "\n",
    "# Show.\n",
    "labels_milk"
   ]
  },
  {
   "cell_type": "code",
   "execution_count": null,
   "metadata": {},
   "outputs": [],
   "source": [
    "# Turn labels_milk into a set.\n",
    "# Uses: https://docs.python.org/3/tutorial/datastructures.html#sets\n",
    "set(labels_milk)"
   ]
  },
  {
   "cell_type": "code",
   "execution_count": null,
   "metadata": {},
   "outputs": [],
   "source": [
    "# Calculate the overlap between each element of combs and labels_milk.\n",
    "\n",
    "no_overlaps = []\n",
    "\n",
    "for comb in combs:\n",
    "  # Turn comb into a set.\n",
    "  s1 = set(comb)\n",
    "  # Turn labels_milk into a set.\n",
    "  s2 = set(labels_milk)\n",
    "  # Figure out where they overlap.\n",
    "  overlap = s1.intersection(s2)\n",
    "  # Show the combination and the overlap.\n",
    "  print(comb, overlap, len(overlap))\n",
    "  # Append overlap to no_overlaps.\n",
    "  no_overlaps.append(len(overlap))"
   ]
  },
  {
   "cell_type": "code",
   "execution_count": null,
   "metadata": {},
   "outputs": [],
   "source": [
    "# Show the overlaps.\n",
    "print(no_overlaps)"
   ]
  },
  {
   "cell_type": "code",
   "execution_count": null,
   "metadata": {},
   "outputs": [],
   "source": [
    "# Count the number of times each overlap occurs.\n",
    "counts = np.unique(no_overlaps, return_counts=True)\n",
    "\n",
    "# Show.\n",
    "counts"
   ]
  },
  {
   "cell_type": "code",
   "execution_count": null,
   "metadata": {},
   "outputs": [],
   "source": [
    "# Create a figure.\n",
    "fig, ax = plt.subplots(figsize=(6, 4))\n",
    "\n",
    "# Bar chart.\n",
    "ax.bar(counts[0], counts[1]);"
   ]
  },
  {
   "cell_type": "markdown",
   "metadata": {},
   "source": [
    "## The Null Hypothesis"
   ]
  },
  {
   "cell_type": "markdown",
   "metadata": {},
   "source": [
    "- The lady has no special power to tell the difference between cups of tea with milk in first and cups of tea with tea in first.\n",
    "\n",
    "- The lady is selecting the six cups from the twelve cups at random."
   ]
  },
  {
   "cell_type": "markdown",
   "metadata": {},
   "source": [
    "## Alternative Hypothesis\n",
    "\n",
    "- The lady can tell the difference. "
   ]
  },
  {
   "cell_type": "markdown",
   "metadata": {},
   "source": [
    "### Evidence\n",
    "\n",
    "Fisher: if the lady is just picking six cups at random, then it is unlikely she will pick the correct six. The probability is one in nine hundred and twenty four. It is so unlikely, that I will agree that something non-random is happening when she is selecting the cups of tea. "
   ]
  },
  {
   "cell_type": "code",
   "execution_count": null,
   "metadata": {},
   "outputs": [],
   "source": [
    "# The probability that she (randomly) selects the six correct cups.\n",
    "1 / 924"
   ]
  },
  {
   "cell_type": "code",
   "execution_count": null,
   "metadata": {},
   "outputs": [],
   "source": [
    "# The probability that she (randomly) selects at least five correct cups.\n",
    "# i.e. one error is made.\n",
    "# 36 and 1 retrieved from the array above, which is...\n",
    "# array([  1,  36, 225, 400, 225,  36,   1], dtype=int64))\n",
    "#print('1/70:' , 1/70)\n",
    "#print('math.comb cals 5 from 6:' , 1 / math.comb(6,5))\n",
    "#print('math.comb cals 4 from 6:' , 1 / math.comb(6,4))\n",
    "#print('math.comb cals 3 from 6:' , 1 / math.comb(6,3))\n",
    "#print('math.comb cals 5 from 12:' , 1 / math.comb(12,5))\n",
    "(36 + 1) / 924"
   ]
  },
  {
   "cell_type": "code",
   "execution_count": null,
   "metadata": {},
   "outputs": [],
   "source": [
    "# The probability that she (randomly) selects at least four correct cups.\n",
    "# i.e. two errors are made.\n",
    "# 36 and 1 retrieved from the array above, which is...\n",
    "# array([  1,  36, 225, 400, 225,  36,   1], dtype=int64))\n",
    "print('math.comb cals :' , 1 / math.comb(12,4))\n",
    "(36 + 1) / 924"
   ]
  },
  {
   "cell_type": "markdown",
   "metadata": {},
   "source": [
    "## Type I Errors, Type II Errors, and Power"
   ]
  },
  {
   "cell_type": "markdown",
   "metadata": {},
   "source": [
    " - Type I and Type II errors: https://en.wikipedia.org/wiki/Type_I_and_type_II_errors#Table_of_error_types\n",
    " - Power: https://en.wikipedia.org/wiki/Power_(statistics)#Description"
   ]
  },
  {
   "cell_type": "markdown",
   "metadata": {},
   "source": [
    "# Task 2: numpy's Normal Distribution\n",
    "\n",
    "In this task you will assess whether `numpy.random.normal()` properly generates normal values.\n",
    "To begin, generate a sample of one hundred thousand values using the function with mean `10.0` and standard deviation `3.0`.\n",
    "\n",
    "Use the `scipy.stats.shapiro()` function to test whether your sample came from a normal distribution.\n",
    "Explain the results and output.\n",
    "\n",
    "Plot a histogram of your values and plot the corresponding normal distribution probability density function on top of it.\n"
   ]
  },
  {
   "cell_type": "code",
   "execution_count": 26,
   "metadata": {},
   "outputs": [],
   "source": [
    "\n",
    "# Generate a sample of one hundred thousand values using the function  \n",
    "# with mean `10.0` and standard deviation `3.0`.\n",
    "\n",
    "# Ref https://stackoverflow.com/questions/68321993/how-would-i-generate-100000-random-numbers-using-a-normal-distribution-with-a-sp\n",
    "mean: float = 10.0\n",
    "stdev: float = 3.0\n",
    "n_samples: int = 100_000 # Ref https://stackoverflow.com/questions/49837534/what-do-1-000-and-100-000-mean\n",
    "\n",
    "samples: np.ndarray = np.random.normal(loc=mean,\n",
    "                                       scale=stdev,\n",
    "                                       size=n_samples)\n",
    "\n",
    "#print(samples)\n",
    "\n"
   ]
  },
  {
   "cell_type": "markdown",
   "metadata": {},
   "source": [
    "# shapiro - test for normality\n",
    "https://docs.scipy.org/doc/scipy/reference/generated/scipy.stats.shapiro.html  \n",
    "shapiro(x, *, axis=None, nan_policy='propagate', keepdims=False)  \n",
    "Perform the Shapiro-Wilk test for normality.  \n",
    "The Shapiro-Wilk test tests the null hypothesis that the data was drawn from a normal distribution.  \n",
    "\n",
    "Parameters:  \n",
    "x  \n",
    "array_like  \n",
    "Array of sample data. Must contain at least three observations.  \n",
    "\n",
    "axis  \n",
    "int or None, default: None  \n",
    "If an int, the axis of the input along which to compute the statistic. The statistic of each axis-slice (e.g. row) of the  input will appear in a corresponding element of the output. If None, the input will be raveled before computing the  statistic.  \n",
    "\n",
    "nan_policy  \n",
    "{‘propagate’, ‘omit’, ‘raise’}  \n",
    "Defines how to handle input NaNs.  \n",
    "\n",
    "propagate:  \n",
    "if a NaN is present in the axis slice (e.g. row) along which the statistic is computed, the corresponding entry  of the output will be NaN.  \n",
    "\n",
    "omit:  \n",
    "NaNs will be omitted when performing the calculation. If insufficient data remains in the axis slice along which the  statistic is computed, the corresponding entry of the output will be NaN.  \n",
    "\n",
    "raise:  \n",
    "if a NaN is present, a ValueError will be raised.\n",
    "\n",
    "keepdims\n",
    "bool, default: False\n",
    "If this is set to True, the axes which are reduced are left in the result as dimensions with size one. With this option, the result will broadcast correctly against the input array.\n",
    "\n",
    "Returns:  \n",
    "statistic\n",
    "float\n",
    "The test statistic.\n",
    "\n",
    "p-value\n",
    "float\n",
    "The p-value for the hypothesis test.\n",
    "\n"
   ]
  },
  {
   "cell_type": "markdown",
   "metadata": {},
   "source": [
    "### Shapiro-Wilk Test Explained\n",
    "Referenced from  (https://builtin.com/data-science/shapiro-wilk-test)  \n",
    "Shapiro-Wilk test is a hypothesis test that evaluates whether a data set is normally distributed.  \n",
    "It evaluates data from a sample with the null hypothesis that the data set is normally distributed.  \n",
    "A large p-value indicates the data set is normally distributed, a low p-value indicates that it isn’t  \n",
    "normally distributed."
   ]
  },
  {
   "cell_type": "markdown",
   "metadata": {},
   "source": [
    "https://www.statology.org/the-concise-guide-to-interpreting-p-values/  \n",
    "Typically, researchers use a significance level of 0.05 as a cutoff for statistical significance.  \n",
    "Here’s what it means in practice:  \n",
    "  \n",
    "If p < 0.05: This means that if the null hypothesis were true, we’d expect to see results  \n",
    "as extreme as ours less than 5% of the time. In this case, we typically reject the null hypothesis  \n",
    "and consider our results statistically significant. For our blood pressure example, we might conclude  \n",
    "that there’s evidence the medication does have an effect on blood pressure.  \n",
    "   \n",
    "If p > 0.05: This means that if the null hypothesis were true, we’d expect to see results  \n",
    "as extreme as ours more than 5% of the time. In this case, we fail to reject the null hypothesis  \n",
    "and consider our results not statistically significant. For our example, we might conclude that we  \n",
    "don’t have sufficient evidence to say the medication affects blood pressure."
   ]
  },
  {
   "cell_type": "code",
   "execution_count": null,
   "metadata": {},
   "outputs": [],
   "source": [
    "# Use the `scipy.stats.shapiro()` function to test whether your sample came from a normal distribution.\n",
    "# Explain the results and output.\n",
    "\n",
    "# https://docs.scipy.org/doc/scipy/reference/generated/scipy.stats.shapiro.html\n",
    "# shapiro(x, *, axis=None, nan_policy='propagate', keepdims=False)\n",
    "# Perform the Shapiro-Wilk test for normality.\n",
    "# The Shapiro-Wilk test tests the null hypothesis that the data was drawn from a normal distribution.\n",
    "res = stats.shapiro(samples)\n",
    "res.statistic\n",
    "print('statistic: ',res.statistic) # example output 0.9999668002128601\n",
    "print('pvalue: ',res.pvalue)"
   ]
  },
  {
   "cell_type": "markdown",
   "metadata": {},
   "source": [
    "Sample output:  \n",
    "statistic:  0.9999709129333496  \n",
    "pvalue:  0.6299029588699341  \n",
    "\n",
    "Given the p-value is greater than the typical significance level (0.05), I do not reject the null hypothesis.  \n",
    "This suggests that the sample likely comes from a normal distribution."
   ]
  },
  {
   "cell_type": "markdown",
   "metadata": {},
   "source": [
    "#### Plot a histogram of your values and plot the corresponding normal distribution probability density function on top of it.\n"
   ]
  },
  {
   "cell_type": "code",
   "execution_count": null,
   "metadata": {},
   "outputs": [],
   "source": [
    "# Plot a histogram\n",
    "plt.hist(samples, edgecolor='black', density = True ) #bins = np.linspace(-4,4,31))\n",
    "title = \"normal distribution probability density function: mean = \" +  str(mean) + \", stdev = \" + str(stdev) \n",
    "plt.title(title)\n"
   ]
  },
  {
   "cell_type": "markdown",
   "metadata": {},
   "source": [
    "# Task 3: t-Test Calculation\n",
    "\n",
    "Consider the following dataset containing resting heart rates for patients before and after embarking on a two-week exercise program.  \n",
    "  \n",
    "(Table generated using tool at https://www.tablesgenerator.com/markdown_tables#)  \n",
    "\n",
    "  \n",
    "| **Patient** | **0** | **1** | **2** | **3** | **4** | **5** | **6** | **7** | **8** | **9** |\n",
    "|-------------|-------|-------|-------|-------|-------|-------|-------|-------|-------|-------|\n",
    "| Before      | 63    | 68    | 70    | 64    | 74    | 67    | 70    | 57    | 66    | 65    |\n",
    "| After       | 64    | 64    | 68    | 64    | 73    | 70    | 72    | 54    | 61    | 63    |  \n",
    "\n",
    "Calculate the t-statistic based on this data set, using Python. Compare it to the value given by scipy.stats. Explain your work and list any sources used."
   ]
  },
  {
   "cell_type": "markdown",
   "metadata": {},
   "source": [
    "## t-statictic\n",
    "### Definition from https://en.wikipedia.org/wiki/T-statistic\n",
    "\n",
    "In statistics, the **t-statistic** is the ratio of the difference in a number’s estimated value from its assumed value to its standard error. It is used in hypothesis testing via Student's t-test. The t-statistic is used in a t-test to determine whether to support or reject the **null hypothesis**.  \n",
    "\n",
    "It is very similar to the z-score but with the difference that t-statistic is used when the sample size is small or the population standard deviation is unknown. For example, the t-statistic is used in estimating the population mean from a sampling distribution of sample means if the population standard deviation is unknown.  \n",
    "\n",
    "It is also used along with p-value when running hypothesis tests where the p-value tells us what the odds are of the results to have happened."
   ]
  },
  {
   "cell_type": "code",
   "execution_count": null,
   "metadata": {},
   "outputs": [],
   "source": [
    "# coding the solution, some websites used for code re-use\n",
    "# https://stackoverflow.com/questions/28405442/calculating-t-statistics-using-scipy-stats\n",
    "# https://linuxhaxor.net/code/scipy-t-test.html\n",
    "# https://neuraldatascience.io/5-eda/ttests.html\n",
    "# https://docs.scipy.org/doc/scipy/tutorial/stats/analysing_one_sample.html\n",
    "# https://www.scicoding.com/guide-to-t-test-in-python-applications-in-data-analysis/\n",
    "\n",
    "# Set up the before and after data in an array\n",
    "before = np.array([63, 68, 70, 64, 74, 67, 70, 57, 66, 65])\n",
    "after = np.array([64, 64, 68, 64, 73, 70, 72, 54, 61, 63])\n",
    "\n",
    "#now get the differences between the sets of after / before data\n",
    "#differences will similarly be stored in an array\n",
    "differences = after - before\n",
    "print(differences)\n",
    "#next calculate the mean of the differences using numpy mean\n",
    "mean_difference = np.mean(differences)\n",
    "\n",
    "#numpy.std\n",
    "#https://numpy.org/doc/stable/reference/generated/numpy.std.html#numpy-std\n",
    "\n",
    "# now calculate the standard deviation using numpy std\n",
    "#ddof=1 :-\n",
    "#  Specifying the difference in degrees of freedom in np.std as 1\n",
    "#  As seen here - https://stackoverflow.com/questions/28405442/calculating-t-statistics-using-scipy-stats\n",
    "std_difference = np.std(differences,ddof=1)\n",
    "#store the length/number of standard deviation differences\n",
    "num_std_diff = len(differences)\n",
    "\n",
    "# Next calculate the t-statistic\n",
    "# Seems to me that the float is required for np.sqrt according to the stackoverflow code.\n",
    "t_statistic = mean_difference / (std_difference / np.sqrt(float(num_std_diff)))\n",
    "\n",
    "# Now calculate the t-statistic using sciopy.stats\n",
    "# This will be used to compare our calculated t-statistic above\n",
    "# ttest_rel - https://docs.scipy.org/doc/scipy/reference/generated/scipy.stats.ttest_rel.html?ref=localhost#ttest-rel\n",
    "# https://www.scicoding.com/guide-to-t-test-in-python-applications-in-data-analysis/\n",
    "t_statistic_scipy, p_value = stats.ttest_rel(before, after)\n",
    "\n",
    "#now lets display the calculated and scipy results\n",
    "print(\"Calculated t-statistic: \",t_statistic) \n",
    "print(\"t-statistic from scipy.stats: \", t_statistic_scipy) \n",
    "print(\"p-value from scipy.stats: \", p_value)\n",
    "                                                                                                                  "
   ]
  },
  {
   "cell_type": "markdown",
   "metadata": {},
   "source": [
    "Sample output from above:-  \n",
    "  \n",
    "[ 1 -4 -2  0 -1  3  2 -3 -5 -2]  \n",
    "Calculated t-statistic:  -1.3372274824806283  \n",
    "t-statistic from scipy.stats:  1.337227482480628  \n",
    "p-value from scipy.stats:  0.21396011317404623  "
   ]
  },
  {
   "cell_type": "markdown",
   "metadata": {},
   "source": []
  },
  {
   "cell_type": "markdown",
   "metadata": {},
   "source": []
  },
  {
   "cell_type": "markdown",
   "metadata": {},
   "source": [
    "## End"
   ]
  }
 ],
 "metadata": {
  "kernelspec": {
   "display_name": "base",
   "language": "python",
   "name": "python3"
  },
  "language_info": {
   "codemirror_mode": {
    "name": "ipython",
    "version": 3
   },
   "file_extension": ".py",
   "mimetype": "text/x-python",
   "name": "python",
   "nbconvert_exporter": "python",
   "pygments_lexer": "ipython3",
   "version": "3.11.7"
  }
 },
 "nbformat": 4,
 "nbformat_minor": 2
}
