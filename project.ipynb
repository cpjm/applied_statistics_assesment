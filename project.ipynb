{
 "cells": [
  {
   "cell_type": "markdown",
   "metadata": {},
   "source": [
    "# project.ipynb\n",
    "## Ciaran Moran\n",
    "## Student ID: G00426050\n",
    "## Email: G00426050@atu.ie\n",
    "\n",
    "## This notebook is for Python project for the ATU course *Applied Statistics*.\n"
   ]
  },
  {
   "cell_type": "markdown",
   "metadata": {},
   "source": [
    "## A look at the PlantGrowth data set\n",
    "Information from https://vincentarelbundock.github.io/Rdatasets/doc/datasets/PlantGrowth.html\n",
    "  \n",
    "### Description\n",
    "Results from an experiment to compare yields (as measured by dried weight of plants) obtained under a control and two different treatment conditions.\n",
    "  \n",
    "### Usage\n",
    "PlantGrowth\n",
    "\n",
    "### Format\n",
    "A data frame of 30 cases on 2 variables.  \n",
    "  \n",
    "[, 1]\tweight\tnumeric  \n",
    "[, 2]\tgroup\tfactor  \n",
    "  \n",
    "The levels of group are ‘ctrl’, ‘trt1’, and ‘trt2’.  \n",
    "\n",
    "### Source\n",
    "Dobson, A. J. (1983) An Introduction to Statistical Modelling. London: Chapman and Hall.\n",
    "\n",
    "### Examples\n",
    "### One factor ANOVA example from Dobson's book, cf. Table 7.4:\n",
    "require(stats); require(graphics)  \n",
    "boxplot(weight ~ group, data = PlantGrowth, main = \"PlantGrowth data\",  \n",
    "        ylab = \"Dried weight of plants\", col = \"lightgray\",  \n",
    "        notch = TRUE, varwidth = TRUE)  \n",
    "anova(lm(weight ~ group, data = PlantGrowth))  \n",
    "\n",
    "  \n"
   ]
  },
  {
   "cell_type": "code",
   "execution_count": 5,
   "metadata": {},
   "outputs": [],
   "source": [
    "# Imports\n",
    "import pandas as pd\n",
    "import matplotlib.pyplot as plt\n",
    "import seaborn as sns\n",
    "import csv"
   ]
  },
  {
   "cell_type": "code",
   "execution_count": 6,
   "metadata": {},
   "outputs": [
    {
     "name": "stdout",
     "output_type": "stream",
     "text": [
      "4.17 ctrl\n",
      "5.58 ctrl\n",
      "5.18 ctrl\n",
      "6.11 ctrl\n",
      "4.5 ctrl\n",
      "4.61 ctrl\n",
      "5.17 ctrl\n",
      "4.53 ctrl\n",
      "5.33 ctrl\n",
      "5.14 ctrl\n",
      "4.81 trt1\n",
      "4.17 trt1\n",
      "4.41 trt1\n",
      "3.59 trt1\n",
      "5.87 trt1\n",
      "3.83 trt1\n",
      "6.03 trt1\n",
      "4.89 trt1\n",
      "4.32 trt1\n",
      "4.69 trt1\n",
      "6.31 trt2\n",
      "5.12 trt2\n",
      "5.54 trt2\n",
      "5.5 trt2\n",
      "5.37 trt2\n",
      "5.29 trt2\n",
      "4.92 trt2\n",
      "6.15 trt2\n",
      "5.8 trt2\n",
      "5.26 trt2\n",
      "{'rownames': '30', 'weight': '5.26', 'group': 'trt2'}\n"
     ]
    }
   ],
   "source": [
    "# Open the data file\n",
    "# Using code from https://docs.python.org/3/library/csv.html\n",
    "with open('data\\PlantGrowth.csv', newline='') as csvfile:\n",
    "    reader = csv.DictReader(csvfile)\n",
    "    for row in reader:\n",
    "        print(row['weight'], row['group'])\n",
    "\n",
    "print(row)\n"
   ]
  }
 ],
 "metadata": {
  "kernelspec": {
   "display_name": "base",
   "language": "python",
   "name": "python3"
  },
  "language_info": {
   "codemirror_mode": {
    "name": "ipython",
    "version": 3
   },
   "file_extension": ".py",
   "mimetype": "text/x-python",
   "name": "python",
   "nbconvert_exporter": "python",
   "pygments_lexer": "ipython3",
   "version": "3.11.7"
  }
 },
 "nbformat": 4,
 "nbformat_minor": 2
}
