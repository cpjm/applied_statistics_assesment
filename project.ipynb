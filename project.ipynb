{
 "cells": [
  {
   "cell_type": "markdown",
   "metadata": {},
   "source": [
    "# project.ipynb\n",
    "## Ciaran Moran\n",
    "## Student ID: G00426050\n",
    "## Email: G00426050@atu.ie\n",
    "\n",
    "## This notebook is for Python project for the ATU course *Applied Statistics*.\n"
   ]
  },
  {
   "cell_type": "markdown",
   "metadata": {},
   "source": [
    "## A look at the PlantGrowth data set\n",
    "Information from https://vincentarelbundock.github.io/Rdatasets/doc/datasets/PlantGrowth.html\n",
    "  \n",
    "### Description\n",
    "Results from an experiment to compare yields (as measured by dried weight of plants) obtained under a control and two different treatment conditions.\n",
    "  \n",
    "### Usage\n",
    "PlantGrowth\n",
    "\n",
    "### Format\n",
    "A data frame of 30 cases on 2 variables.  \n",
    "  \n",
    "[, 1]\tweight\tnumeric  \n",
    "[, 2]\tgroup\tfactor  \n",
    "  \n",
    "The levels of group are ‘ctrl’, ‘trt1’, and ‘trt2’.  \n",
    "\n",
    "### Source\n",
    "Dobson, A. J. (1983) An Introduction to Statistical Modelling. London: Chapman and Hall.\n",
    "\n",
    "### Examples\n",
    "### One factor ANOVA example from Dobson's book, cf. Table 7.4:\n",
    "require(stats); require(graphics)  \n",
    "boxplot(weight ~ group, data = PlantGrowth, main = \"PlantGrowth data\",  \n",
    "        ylab = \"Dried weight of plants\", col = \"lightgray\",  \n",
    "        notch = TRUE, varwidth = TRUE)  \n",
    "anova(lm(weight ~ group, data = PlantGrowth))  \n",
    "\n",
    "  \n"
   ]
  },
  {
   "cell_type": "markdown",
   "metadata": {},
   "source": [
    "## Some general websites used for references, help, ideas and general inspiration.\n",
    "[Python](https://www.python.org/)  \n",
    "[Pandas](https://pandas.pydata.org/)  \n",
    "[Matplotlib](https://matplotlib.org/)  \n",
    "[Markdown Guide](https://www.markdownguide.org/basic-syntax/)  \n",
    "[Github Help](https://support.github.com/)  \n",
    "[Reddit Python](https://www.reddit.com/r/Python/)  \n",
    "[Reddit Statistics](https://www.reddit.com/r/statistics/)  \n",
    "[StackOverflow](https://stackoverflow.com/)  \n",
    "[ChatGPT](https://chatgpt.com/)  \n",
    "[Copilot](https://copilot.microsoft.com/)  \n",
    "[Google Search](https://www.google.ie/)  \n",
    "[YouTube](https://www.youtube.com/)  \n",
    "\n"
   ]
  },
  {
   "cell_type": "markdown",
   "metadata": {},
   "source": [
    "### Imports section"
   ]
  },
  {
   "cell_type": "code",
   "execution_count": 1,
   "metadata": {},
   "outputs": [],
   "source": [
    "# Imports\n",
    "# https://pandas.pydata.org/\n",
    "import pandas as pd\n",
    "# https://matplotlib.org/stable/tutorials/pyplot.html\n",
    "import matplotlib.pyplot as plt\n",
    "# https://seaborn.pydata.org/\n",
    "import seaborn as sns\n",
    "# https://docs.python.org/3/library/csv.html\n",
    "import csv\n",
    "# https://scipy.org/\n",
    "import scipy "
   ]
  },
  {
   "cell_type": "markdown",
   "metadata": {},
   "source": [
    "## 1. Download and save the dataset to your repository.  \n",
    "[PlantGrowth R dataset](https://vincentarelbundock.github.io/Rdatasets/csv/datasets/PlantGrowth.csv)"
   ]
  },
  {
   "cell_type": "code",
   "execution_count": 2,
   "metadata": {},
   "outputs": [],
   "source": [
    "# Saved the csv file from https://vincentarelbundock.github.io/Rdatasets/csv/datasets/PlantGrowth.csv\n",
    "# Set the csv location and filename\n",
    "csvfilename='data\\PlantGrowth.csv'"
   ]
  },
  {
   "cell_type": "code",
   "execution_count": 3,
   "metadata": {},
   "outputs": [],
   "source": [
    "# Open the data file\n",
    "#https://pandas.pydata.org/docs/reference/api/pandas.read_csv.html\n",
    "# Using code from https://docs.python.org/3/library/csv.html\n",
    "#with open('data\\PlantGrowth.csv', newline='') as csvfile:\n",
    "#    reader = csv.DictReader(csvfile)\n",
    "#    for row in reader:\n",
    "       # print(row['weight'], row['group'])\n",
    "#print(row)\n",
    "\n",
    "# References for opening and reading csv files\n",
    "#https://stackoverflow.com/questions/29026664/how-to-import-data-from-csv-using-python\n",
    "#https://stackoverflow.com/questions/48899051/how-to-drop-a-specific-column-of-csv-file-while-reading-it-using-pandas\n",
    "#https://www.statology.org/pandas-read-csv-column-name/#:~:text=The%20names%20argument%20takes%20a,it%20as%20the%20header%20row.\n",
    "df = pd.read_csv(csvfilename, usecols=['weight','group'])"
   ]
  },
  {
   "cell_type": "markdown",
   "metadata": {},
   "source": [
    "## 2. Describe the data set in your notebook."
   ]
  },
  {
   "cell_type": "markdown",
   "metadata": {},
   "source": [
    "## Describe dataframe\n",
    "[pandas: Get summary statistics for each column with describe()](https://note.nkmk.me/en/python-pandas-describe/#:~:text=In%20pandas%2C%20the%20describe(),and%20mode%20for%20each%20column.)"
   ]
  },
  {
   "cell_type": "markdown",
   "metadata": {},
   "source": [
    "The describe of the dataframe shows the following statistics for the weight column.  \n",
    "  \n",
    "|       | **weight** |\n",
    "|-------|:----------:|\n",
    "| count |  30.000000 |\n",
    "|  mean |   5.073000 |\n",
    "|   std |   0.701192 |\n",
    "|   min |   3.590000 |\n",
    "|   25% |   4.550000 |\n",
    "|   50% |   5.155000 |\n",
    "|   75% |   5.530000 |\n",
    "|   max |   6.310000 |\n"
   ]
  },
  {
   "cell_type": "code",
   "execution_count": 4,
   "metadata": {},
   "outputs": [
    {
     "data": {
      "text/html": [
       "<div>\n",
       "<style scoped>\n",
       "    .dataframe tbody tr th:only-of-type {\n",
       "        vertical-align: middle;\n",
       "    }\n",
       "\n",
       "    .dataframe tbody tr th {\n",
       "        vertical-align: top;\n",
       "    }\n",
       "\n",
       "    .dataframe thead th {\n",
       "        text-align: right;\n",
       "    }\n",
       "</style>\n",
       "<table border=\"1\" class=\"dataframe\">\n",
       "  <thead>\n",
       "    <tr style=\"text-align: right;\">\n",
       "      <th></th>\n",
       "      <th>weight</th>\n",
       "    </tr>\n",
       "  </thead>\n",
       "  <tbody>\n",
       "    <tr>\n",
       "      <th>count</th>\n",
       "      <td>30.000000</td>\n",
       "    </tr>\n",
       "    <tr>\n",
       "      <th>mean</th>\n",
       "      <td>5.073000</td>\n",
       "    </tr>\n",
       "    <tr>\n",
       "      <th>std</th>\n",
       "      <td>0.701192</td>\n",
       "    </tr>\n",
       "    <tr>\n",
       "      <th>min</th>\n",
       "      <td>3.590000</td>\n",
       "    </tr>\n",
       "    <tr>\n",
       "      <th>25%</th>\n",
       "      <td>4.550000</td>\n",
       "    </tr>\n",
       "    <tr>\n",
       "      <th>50%</th>\n",
       "      <td>5.155000</td>\n",
       "    </tr>\n",
       "    <tr>\n",
       "      <th>75%</th>\n",
       "      <td>5.530000</td>\n",
       "    </tr>\n",
       "    <tr>\n",
       "      <th>max</th>\n",
       "      <td>6.310000</td>\n",
       "    </tr>\n",
       "  </tbody>\n",
       "</table>\n",
       "</div>"
      ],
      "text/plain": [
       "          weight\n",
       "count  30.000000\n",
       "mean    5.073000\n",
       "std     0.701192\n",
       "min     3.590000\n",
       "25%     4.550000\n",
       "50%     5.155000\n",
       "75%     5.530000\n",
       "max     6.310000"
      ]
     },
     "execution_count": 4,
     "metadata": {},
     "output_type": "execute_result"
    }
   ],
   "source": [
    "df.describe()"
   ]
  },
  {
   "cell_type": "markdown",
   "metadata": {},
   "source": [
    "### Head of the data set\n",
    "[pandas.DataFrame.head](https://pandas.pydata.org/docs/reference/api/pandas.DataFrame.head.html#pandas-dataframe-head)\n",
    "\n",
    "This shows that the first row in the csv contains the column header.  \n",
    "    column 1 - rownames - 1 through to 30   \n",
    "    column 2 - weight - numeric weight of the plants within each group  \n",
    "    column 3 - group  - treatment group. Note there are 3 groups , which we will see later ‘ctrl’, ‘trt1’, and ‘trt2’  \n",
    "    "
   ]
  },
  {
   "cell_type": "code",
   "execution_count": 5,
   "metadata": {},
   "outputs": [
    {
     "name": "stdout",
     "output_type": "stream",
     "text": [
      "First 5 rows of the dataset:\n",
      "   weight group\n",
      "0    4.17  ctrl\n",
      "1    5.58  ctrl\n",
      "2    5.18  ctrl\n",
      "3    6.11  ctrl\n",
      "4    4.50  ctrl\n"
     ]
    }
   ],
   "source": [
    "#https://pandas.pydata.org/docs/reference/api/pandas.DataFrame.head.html#pandas-dataframe-head\n",
    "print(\"First 5 rows of the dataset:\")\n",
    "print(df.head())"
   ]
  },
  {
   "cell_type": "markdown",
   "metadata": {},
   "source": [
    "## Group column unique values\n",
    "[Find the unique values in a column and then sort them](https://stackoverflow.com/questions/32072076/find-the-unique-values-in-a-column-and-then-sort-them)  \n",
    "  \n",
    "Group column unique values:  ['ctrl', 'trt1', 'trt2']  "
   ]
  },
  {
   "cell_type": "code",
   "execution_count": 6,
   "metadata": {},
   "outputs": [
    {
     "name": "stdout",
     "output_type": "stream",
     "text": [
      "Group column unique values:  ['ctrl', 'trt1', 'trt2']\n"
     ]
    }
   ],
   "source": [
    "g = df['group'].unique()\n",
    "print('Group column unique values: ', sorted(g))"
   ]
  },
  {
   "cell_type": "markdown",
   "metadata": {},
   "source": [
    "### Create a boxplot for the data  \n",
    "[matplotlib.pyplot.boxplot](https://matplotlib.org/stable/api/_as_gen/matplotlib.pyplot.boxplot.html)  \n",
    "[Box Plot in Python using Matplotlib](https://www.geeksforgeeks.org/box-plot-in-python-using-matplotlib/)      "
   ]
  },
  {
   "cell_type": "code",
   "execution_count": 7,
   "metadata": {},
   "outputs": [
    {
     "data": {
      "image/png": "[encoded data removed]",
      "text/plain": [
       "<Figure size 1000x800 with 1 Axes>"
      ]
     },
     "metadata": {},
     "output_type": "display_data"
    }
   ],
   "source": [
    "\n",
    "plt.figure(figsize=(10, 8))\n",
    "sns.boxplot(x='group', y='weight', data=df, color='blue', width=.8)\n",
    "plt.title(\"PlantGrowth Data\")\n",
    "plt.xlabel(\"Group\")\n",
    "plt.ylabel(\"Dried Weight of Plants\")\n",
    "plt.show()"
   ]
  },
  {
   "cell_type": "markdown",
   "metadata": {},
   "source": [
    "## 3. Describe what a t-test is, how it works, and what the assumptions are.\n",
    "References  \n",
    "[Wikipedia Student's t-test](https://en.wikipedia.org/wiki/Student%27s_t-test)  \n",
    "[An Introduction to t Tests | Definitions, Formula and Examples](https://www.scribbr.com/statistics/t-test/#:~:text=A%20t%20test%20is%20a,are%20different%20from%20one%20another.)  \n",
    "[T Test (Student’s T-Test): Definition and Examples](https://www.statisticshowto.com/probability-and-statistics/t-test/)  "
   ]
  },
  {
   "cell_type": "markdown",
   "metadata": {},
   "source": [
    "### What is a T-test\n",
    "A t-test is a statistical test used to compare the mean/averages of two groups and see if they are different from each other. It helps one understand if the differences between the two groups are significient enough to be considered meaningful, or alternatively if they might have happened by chance.  \n",
    "\n",
    "Note. If more than two groups are involved, then an ANOVA Test can be used instead.  \n",
    "  \n",
    "### How does a T-test work  \n",
    "First you state a hypothesis, called the \"null hypothesis\".  \n",
    "That is that there is no difference, the two groups are the same.  \n",
    "For example, if a company implements a new process, the null hypothesis would mean that there is no difference betwwen the old process being replaced and the new process replacing it. Therefore the new process makes no difference (waste of time?).  \n",
    "It is what is assumed to be true before testing for differences, and this belief holds true unless testing the underlying data demonstrates otherwise.  \n",
    "  \n",
    "The t-test assumes that the data is:-  \n",
    "\n",
    "1. Independent  \n",
    "2. Normally distributed  \n",
    "    2.1 When plotted the data displays in a uniform bell shaped graph  \n",
    "    2.2 Most of the values reside in the middle and fewer values moving away from the middle  \n",
    "    2.3 Very few or no values that are outliers   \n",
    "    2.4 Both groups data have a similar plot spread / bell curve\n",
    "3. Have a similar amount of variance within each group being compared  \n",
    "\n"
   ]
  },
  {
   "cell_type": "markdown",
   "metadata": {},
   "source": [
    "### The steps involved in conducting a T-test  \n",
    "1. State a hypothesis e.g. the null hypothesis\n",
    "2. Collect the data for both groups being compared\n",
    "3. Calculate the t-statistic. This compares the differences beetween the group averages and results in a score for the difference.    \n",
    "4. The t-statistic is then compared to a critical value, which can be found from a table e.g. [Scribbr Student's t Table (Free Download)](https://www.scribbr.com/statistics/students-t-table/)\n",
    "5. If the t-statistic is greater than the critical value, then this suggests the groups are different. Otherwise they are similar enough.\n",
    "6. If the t-statistic is large enough, then we can reject the original hypothesis (null hypothesis), and say there is a significant difference between the groups.\n"
   ]
  },
  {
   "cell_type": "markdown",
   "metadata": {},
   "source": [
    "## 4. Perform a t-test to determine whether there is a significant difference between the two treatment groups trt1 and trt2.\n",
    "\n"
   ]
  },
  {
   "cell_type": "markdown",
   "metadata": {},
   "source": [
    "### Referenced websites\n",
    "[SciPy Manual](https://docs.scipy.org/doc/scipy/reference/generated/scipy.stats.ttest_ind.html)  \n",
    "[How to Do a T-Test in Python](https://builtin.com/data-science/t-test-python)  \n",
    "[YouTube Hypothesis Testing and T-Tests](https://youtu.be/CIbJSX-biu0)  \n",
    "[Basic Statistics in Python: t tests with SciPy](https://neuraldatascience.io/5-eda/ttests.html)  \n",
    "[How to Extract Value from a DataFrame: A Guide for Data Scientists](https://saturncloud.io/blog/how-to-extract-value-from-a-dataframe-a-comprehensive-guide-for-data-scientists/)"
   ]
  },
  {
   "cell_type": "code",
   "execution_count": 8,
   "metadata": {},
   "outputs": [
    {
     "name": "stdout",
     "output_type": "stream",
     "text": [
      "T-statistic:  -3.0100985421243616\n",
      "P-value:  0.0075184261182198574\n",
      "As p_value is less than 0.05, we can say that there is a significant difference between the two treatment groups.\n"
     ]
    }
   ],
   "source": [
    "# Extract the values for the two treatment groups trt1 and trt2\n",
    "trt1_data = df[df['group'] == 'trt1']['weight']\n",
    "trt2_data = df[df['group'] == 'trt2']['weight']\n",
    "\n",
    "#print (\"trt1_data:\", trt1_data)\n",
    "#print (\"trt2_data:\", trt2_data)\n",
    "\n",
    "# Perform the t-test to compare the means of the two groups trt1 and trt2\n",
    "t_stat, p_value = scipy.stats.ttest_ind(trt1_data, trt2_data)\n",
    "\n",
    "# Print the results\n",
    "print(\"T-statistic: \",  t_stat)\n",
    "print(\"P-value: \", p_value)\n",
    "\n",
    "# Display the results\n",
    "if p_value < 0.05:\n",
    "    print(\"As p_value is less than 0.05, we can say that there is a significant difference between the two treatment groups.\")\n",
    "else:\n",
    "    print(\"As p_value is not less than 0.05, we can say that there is no significant difference between the two treatment groups.\")"
   ]
  },
  {
   "cell_type": "markdown",
   "metadata": {},
   "source": [
    "### T-Test Conclusion\n",
    "As the p value is less than 0.05 (0.0075184261182198574), then it can be said that there is a signifiicant difference between the two treatment groups.  "
   ]
  },
  {
   "cell_type": "markdown",
   "metadata": {},
   "source": [
    "## 5. Perform ANOVA to determine whether there is a significant difference between the three treatment groups ctrl, trt1, and trt2.\n",
    "\n",
    "### References used\n",
    "[Wikipedia Anova](https://en.wikipedia.org/wiki/Analysis_of_variance)  \n",
    "[DataTab Analysis of Variance](https://datatab.net/tutorial/anova)  \n",
    "[Statistics How To - ANOVA Test](https://www.statisticshowto.com/probability-and-statistics/hypothesis-testing/anova/)\n"
   ]
  },
  {
   "cell_type": "markdown",
   "metadata": {},
   "source": [
    "### What is ANOVA (Analysis of Variance)\n",
    "ANOVA, or Analysis of Variance, is a statistical method used to compare the means of different groups to see if they are different from each other. It was created by [Ronald Fisher](https://en.wikipedia.org/wiki/Ronald_Fisher). ANOVA works by breaking down the total variation in data into parts that come from different sources. It helps us test if the averages of two or more groups are the same or not. ANOVA extends the t-test to accommodate more than two groups (where as teh t-test only handles two groups).  \n",
    "  \n",
    "There are different types of analysis of variance. Each one can be calculated either with our wihtout repeated measurements. A number of examples are:-  \n",
    " - One-factor (or one-way) ANOVA  \n",
    " - Two-factors (or two-way) ANOVA  \n",
    " - One-factor ANOVA with repeated measurements  \n",
    " - Two-factors ANOVA with repeated measurements  \n",
    "\n",
    "  \n",
    "![ANOVA Image](https://datatab.net/assets/tutorial/anova.png)  \n",
    "(External image source linked from https://datatab.net/tutorial/anova)  \n",
    "  \n",
    "### ANOVA instead of T-Test  \n",
    "ANOVA should be used where there is more than 2 groups of data to be tested. The reason for this is that the t-test involves an element of \"probability of error\", said to be around 5%. It would be possible to run a t-test on every 2 grpups of data. However then, statictically speaking, every 20th test would give a wrong result.  \n",
    "  \n",
    "This is where ANOVA can be used instead.\n",
    "\n",
    "## One-way and two-way ANOVA\n",
    "One-way ANOVA is used when you want to compare the means of three or more groups based on one factor. For example, if you want to see if different types of diets affect weight loss, you would use one-way ANOVA to compare the weight loss across different diet groups.\n",
    "\n",
    "Two-way ANOVA is used when you want to compare the means based on two factors. For example, if you want to see how different types of diets and different exercise routines affect weight loss, you would use two-way ANOVA to compare the weight loss across different combinations of diet and exercise routines.\n",
    "\n",
    "So one-way ANOVA looks at one factor, while two-way ANOVA looks at two factors.\n",
    "\n"
   ]
  },
  {
   "cell_type": "code",
   "execution_count": null,
   "metadata": {},
   "outputs": [],
   "source": [
    "# Group the data by the treatment (trt) column\n",
    "# Extract the weights for each of the 3 groups\n",
    "data_data = df[df['trt'] == 'ctrl']['weight']\n",
    "data_trt1 = df[df['trt'] == 'trt1']['weight']\n",
    "data_trt2 = df[df['trt'] == 'trt2']['weight']"
   ]
  }
 ],
 "metadata": {
  "kernelspec": {
   "display_name": "base",
   "language": "python",
   "name": "python3"
  },
  "language_info": {
   "codemirror_mode": {
    "name": "ipython",
    "version": 3
   },
   "file_extension": ".py",
   "mimetype": "text/x-python",
   "name": "python",
   "nbconvert_exporter": "python",
   "pygments_lexer": "ipython3",
   "version": "3.11.7"
  }
 },
 "nbformat": 4,
 "nbformat_minor": 2
}
