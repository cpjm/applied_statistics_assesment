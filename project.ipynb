{
 "cells": [
  {
   "cell_type": "markdown",
   "metadata": {},
   "source": [
    "# project.ipynb\n",
    "## Ciaran Moran\n",
    "## Student ID: G00426050\n",
    "## Email: G00426050@atu.ie\n",
    "\n",
    "## This notebook is for Python project for the ATU course *Applied Statistics*.\n"
   ]
  }
 ],
 "metadata": {
  "language_info": {
   "name": "python"
  }
 },
 "nbformat": 4,
 "nbformat_minor": 2
}
